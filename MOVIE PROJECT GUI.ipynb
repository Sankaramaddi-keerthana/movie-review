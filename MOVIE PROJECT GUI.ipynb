{
 "cells": [
  {
   "cell_type": "code",
   "execution_count": null,
   "metadata": {},
   "outputs": [],
   "source": [
    "from tkinter import *\n",
    "from keras.models import load_model\n",
    "\n",
    "import pickle\n",
    "model = load_model('achuth.h5')\n",
    "model.compile(loss='categorical_crossentropy',optimizer='adam',metrics=['accuracy'])\n",
    "with open('CountVectorizer','rb') as file:\n",
    "        cv=pickle.load(file)\n",
    "\n",
    "top = Tk()\n",
    "top.geometry(\"550x300+300+150\")\n",
    "top.resizable(width=True, height=True)\n",
    "\n",
    "L1 = Label(top, text=\"enter the text prediction\",fg=\"red\")\n",
    "L1.pack()\n",
    "E1 = Entry(top, bd =5,fg=\"white\",bg=\"green\")\n",
    "E1.pack()\n",
    "\n",
    "def predict1():\n",
    "    print(\"Prediction on progress..\")\n",
    "    entered_input=E1.get()\n",
    "    print(\"Entered Input\",entered_input)\n",
    "    entered_input=cv.texts_to_matrix([entered_input])\n",
    "    print(entered_input)\n",
    "   \n",
    "    y_pred=model.predict_classes(entered_input)\n",
    "    print(y_pred)\n",
    "    if y_pred[0]==0:\n",
    "        text=\"The input is a POSITIVe sentiment\"\n",
    "       \n",
    "    elif y_pred[0]==1:\n",
    "        text=\"The input is a good sentiment\"\n",
    "     \n",
    "    elif y_pred[0]==2:\n",
    "        text=\"The input is a negative\"\n",
    "      \n",
    "    elif y_pred[0]==3:\n",
    "        text=\"The input is a positive sentiment\" \n",
    "       \n",
    "    else:\n",
    "        text=\"The input is a well sentiment\"\n",
    "\n",
    "    L2 = Label(top, text=\"Prediction: \"+text)\n",
    "    L2.pack()\n",
    "\n",
    "\n",
    "B = Button(top, text =\"Predict\",fg=\"green\",command = predict1)\n",
    "B.pack(pady=10)\n",
    "\n",
    "top.mainloop()\n",
    "\n"
   ]
  },
  {
   "cell_type": "code",
   "execution_count": null,
   "metadata": {},
   "outputs": [],
   "source": []
  },
  {
   "cell_type": "raw",
   "metadata": {},
   "source": []
  }
 ],
 "metadata": {
  "kernelspec": {
   "display_name": "Python 3",
   "language": "python",
   "name": "python3"
  },
  "language_info": {
   "codemirror_mode": {
    "name": "ipython",
    "version": 3
   },
   "file_extension": ".py",
   "mimetype": "text/x-python",
   "name": "python",
   "nbconvert_exporter": "python",
   "pygments_lexer": "ipython3",
   "version": "3.6.5"
  }
 },
 "nbformat": 4,
 "nbformat_minor": 2
}
